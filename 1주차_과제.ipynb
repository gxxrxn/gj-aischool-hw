{
  "nbformat": 4,
  "nbformat_minor": 0,
  "metadata": {
    "colab": {
      "name": "1주차 과제.ipynb",
      "provenance": [],
      "collapsed_sections": [],
      "toc_visible": true,
      "authorship_tag": "ABX9TyMTl4C9iJnrR+qub6USP7lt",
      "include_colab_link": true
    },
    "kernelspec": {
      "name": "python3",
      "display_name": "Python 3"
    }
  },
  "cells": [
    {
      "cell_type": "markdown",
      "metadata": {
        "id": "view-in-github",
        "colab_type": "text"
      },
      "source": [
        "<a href=\"https://colab.research.google.com/github/gxxrxn/gj-aischool-hw/blob/master/1%EC%A3%BC%EC%B0%A8_%EA%B3%BC%EC%A0%9C.ipynb\" target=\"_parent\"><img src=\"https://colab.research.google.com/assets/colab-badge.svg\" alt=\"Open In Colab\"/></a>"
      ]
    },
    {
      "cell_type": "markdown",
      "metadata": {
        "id": "-XiFhBO7hyl8",
        "colab_type": "text"
      },
      "source": [
        "# 1주차 과제"
      ]
    },
    {
      "cell_type": "markdown",
      "metadata": {
        "id": "YsiCigtJHRtN",
        "colab_type": "text"
      },
      "source": [
        "## 1. 언어\n",
        "- **파파고**\n",
        "  - 네이버에서 자체 개발한 인공신경망 기반의 AI 통역, 번역 서비스\n",
        "  - 2016년에 출시\n",
        "  - AI 번역 분야 혁신 주도\n",
        "  - 한국어의 특성인 높임말을 반영하여 자연스로운 해석 제공\n",
        "  - 사용자들이 참여하여 번역 품질을 평가하는 GYM 서비스 제공\n",
        "-  **구글 번역**\n",
        "  - 구글에서 제공하는 무료 기계번역 서비스\n",
        "  - 2016년 딥러닝 기술을 적용하며 번역 정확도 크게 향상\n",
        "  - 음성 번역, 사진 번역(비주얼 번역, 손글씨 번역) 제공"
      ]
    },
    {
      "cell_type": "markdown",
      "metadata": {
        "id": "9g9eU3L_hX_Z",
        "colab_type": "text"
      },
      "source": [
        "## 2. 음성\n",
        "- **알렉사 (Alexa)**\n",
        "  - 아마존의 에코(Echo) 제품 안에 탑재된 AI 음성인식 플랫폼\n",
        "  - 스피커 형태 기기에 음성인식 AI 비서를 탑재한 것은 아마존이 최초\n",
        "  - 최근 자동화 된 기술 배포 프로세스로 몇 분 내에 라이브 기술의 업데이트가 가능해 짐.\n",
        "- **시리 (Siri)**\n",
        "  - 애플의 음성인식 서비스\n",
        "  - 딥러닝과 AI 기능을 이용한 내부 처리 시스템을 차용하고 있어 인터넷에 연결되지 않아도 사용 가능\n",
        "  - \n",
        "- **빅스비**\n",
        "  - 삼성전자가 비브 개발진과 협력하여 개발한 딥러닝 기반의 개인비서 어플리케이션\n",
        "  - 2017년 갤럭시 S8의 출시와 함께 공개"
      ]
    },
    {
      "cell_type": "markdown",
      "metadata": {
        "id": "fNnPOFV-hkKN",
        "colab_type": "text"
      },
      "source": [
        "## 3. 이미지\n",
        "- **야구와 이미지 인식**\n",
        "  - nc soft의 [이미지 인식 기술을 활용한 야구 하이라이트 클립 자동 생성 기술](https://blog.ncsoft.com/%EA%B2%8C%EC%9E%84%EA%B3%BC-ai-10-%EC%9D%B4%EB%AF%B8%EC%A7%80-%EC%9D%B8%EC%8B%9D-%EA%B8%B0%EC%88%A0%EC%9D%84-%EC%9D%B4%EC%9A%A9%ED%95%9C-%EC%95%BC%EA%B5%AC-%ED%95%98%EC%9D%B4%EB%9D%BC%EC%9D%B4/)\n",
        "- **구글 렌즈**\n",
        "  - 구글 포토에 추가된 기능\n",
        "  - 구글의 인공지능 음성 비서 '구글 어시스턴트'로 작동 → 번역 기능 제공\n",
        "  - 스마트폰 카메라가 촬영한 내용을 자동으로 인식"
      ]
    },
    {
      "cell_type": "markdown",
      "metadata": {
        "id": "0geItTRWhppd",
        "colab_type": "text"
      },
      "source": [
        "## 4. 자율주행\n",
        "- 현대 자동차와 기아 자동차\n",
        "  - SCC-ML 개발\n",
        "    - 운전자의 주행성향에 맞는 부분 자율주행을 구현하는 기술\n",
        "    - SCC + 머신러닝 알고리즘 적용\n",
        "    - 운전자의 주행성향을 차가 스스로 학습해 SCC 작동 시 운전자와 거의 흡사한 패턴으로 자율주행이 가능해 짐.\n",
        "  - SCC 기술\n",
        "    - 앞차와의 거리를 일정하게 유지해 운전자가 설정한 속도로 자율주행을 해주는 기능\n",
        "    - ADAS(첨단 운전자보조 시스템)의 주요 기술 중 하나\n",
        "  - [관련 링크](http://www.aitimes.kr/news/articleView.html?idxno=14500) "
      ]
    }
  ]
}